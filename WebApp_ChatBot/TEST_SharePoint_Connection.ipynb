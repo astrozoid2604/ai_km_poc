{
 "cells": [
  {
   "cell_type": "code",
   "execution_count": 1,
   "id": "551bdcd1-a2f5-4a04-bcaa-3c5962667870",
   "metadata": {},
   "outputs": [
    {
     "name": "stderr",
     "output_type": "stream",
     "text": [
      "/Users/jameslim/miniconda3/envs/ai4km/lib/python3.10/site-packages/requests/__init__.py:86: RequestsDependencyWarning: Unable to find acceptable character detection dependency (chardet or charset_normalizer).\n",
      "  warnings.warn(\n"
     ]
    },
    {
     "name": "stdout",
     "output_type": "stream",
     "text": [
      "✅ Site Title: ai4km\n"
     ]
    }
   ],
   "source": [
    "import os\n",
    "from dotenv import load_dotenv\n",
    "from office365.sharepoint.client_context import ClientContext\n",
    "\n",
    "load_dotenv()\n",
    "\n",
    "SITE_URL   = os.getenv(\"SP_SITE_URL\")            # e.g. https://<tenant>.sharepoint.com/sites/ai4km\n",
    "TENANT     = os.getenv(\"SP_TENANT\")         # e.g. yourtenant.onmicrosoft.com (or the tenant GUID)\n",
    "CLIENT_ID  = os.getenv(\"SP_CLIENT_ID\")\n",
    "THUMBPRINT = os.getenv(\"SP_CERT_THUMBPRINT\")     # uppercase hex, no colons\n",
    "CERT_PEM   = os.getenv(\"SP_CERT_PEM_PATH\")       # e.g. ./privkey.pem\n",
    "\n",
    "ctx = ClientContext(SITE_URL).with_client_certificate(\n",
    "    tenant=TENANT,\n",
    "    client_id=CLIENT_ID,\n",
    "    thumbprint=THUMBPRINT,\n",
    "    cert_path=CERT_PEM\n",
    ")\n",
    "\n",
    "web = ctx.web\n",
    "ctx.load(web)\n",
    "ctx.execute_query()\n",
    "print(\"✅ Site Title:\", web.properties.get(\"Title\"))\n"
   ]
  },
  {
   "cell_type": "code",
   "execution_count": 2,
   "id": "3e60bdd0-134e-4e97-af4d-e5430e4e23e6",
   "metadata": {},
   "outputs": [
    {
     "name": "stdout",
     "output_type": "stream",
     "text": [
      "📋 Lists:\n",
      "  - AI4KM Knowledge Assets\n",
      "  - appdata\n",
      "  - appfiles\n",
      "  - Composed Looks\n",
      "  - Converted Forms\n",
      "  - Documents\n",
      "  - Form Templates\n",
      "  - List Template Gallery\n",
      "  - Master Page Gallery\n",
      "  - Site Assets\n",
      "  - Site Pages\n",
      "  - Solution Gallery\n",
      "  - Style Library\n",
      "  - TaxonomyHiddenList\n",
      "  - Theme Gallery\n",
      "  - User Information List\n",
      "  - Web Part Gallery\n",
      "  - Web Template Extensions\n",
      "✅ Found list: AI4KM Knowledge Assets\n",
      "🟢 Wrote item with RecordId: 1eb016c3-1e63-4f97-881b-6851e0861958\n",
      "🔎 Created Item ID: 4\n"
     ]
    }
   ],
   "source": [
    "from office365.sharepoint.client_context import ClientContext\n",
    "import uuid\n",
    "\n",
    "# reuse your existing ctx\n",
    "lists = ctx.web.lists\n",
    "ctx.load(lists)\n",
    "ctx.execute_query()\n",
    "print(\"📋 Lists:\")\n",
    "for l in lists:\n",
    "    print(\"  -\", l.properties.get(\"Title\"))\n",
    "\n",
    "# 1) Ensure your target list exists (exact title)\n",
    "LIST_TITLE = \"AI4KM Knowledge Assets\"\n",
    "target = ctx.web.lists.get_by_title(LIST_TITLE)\n",
    "ctx.load(target)\n",
    "ctx.execute_query()\n",
    "print(\"✅ Found list:\", target.properties.get(\"Title\"))\n",
    "\n",
    "# 2) Add a minimal test item (uses the fields you plan to write)\n",
    "record_id = str(uuid.uuid4())\n",
    "item_props = {\n",
    "    \"Title\": \"AUTH TEST ITEM xxx\",\n",
    "    \"ContentSummary\": \"Connectivity OK.\",\n",
    "    \"Benefits\": \"N/A\",\n",
    "    \"ContentOwner\": \"bot@amgen.com\",\n",
    "    \"Function\": \"Digital Technology & Innovation\",\n",
    "    \"Site\": \"ASM\",\n",
    "    \"RecordId\": record_id,\n",
    "}\n",
    "item = target.add_item(item_props)\n",
    "ctx.execute_query()\n",
    "print(\"🟢 Wrote item with RecordId:\", record_id)\n",
    "\n",
    "# 3) Read it back by ID\n",
    "ctx.load(item)\n",
    "ctx.execute_query()\n",
    "print(\"🔎 Created Item ID:\", item.properties.get(\"Id\"))\n"
   ]
  }
 ],
 "metadata": {
  "kernelspec": {
   "display_name": "Py3.10 (ai4km)",
   "language": "python",
   "name": "ai4km"
  },
  "language_info": {
   "codemirror_mode": {
    "name": "ipython",
    "version": 3
   },
   "file_extension": ".py",
   "mimetype": "text/x-python",
   "name": "python",
   "nbconvert_exporter": "python",
   "pygments_lexer": "ipython3",
   "version": "3.10.18"
  }
 },
 "nbformat": 4,
 "nbformat_minor": 5
}
