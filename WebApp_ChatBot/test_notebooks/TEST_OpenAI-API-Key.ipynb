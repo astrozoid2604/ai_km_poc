{
 "cells": [
  {
   "cell_type": "code",
   "execution_count": 1,
   "id": "02fffa08-0638-4d47-af01-444b44a57ef0",
   "metadata": {},
   "outputs": [
    {
     "name": "stdout",
     "output_type": "stream",
     "text": [
      "Success ✅: Hello world!\n"
     ]
    }
   ],
   "source": [
    "# Jupyter test cell\n",
    "import os\n",
    "from openai import OpenAI\n",
    "from openai import AuthenticationError, RateLimitError, APIConnectionError, OpenAIError\n",
    "from dotenv import load_dotenv\n",
    "\n",
    "# Load .env if present (so OPENAI_API_KEY can come from .env or your shell)\n",
    "load_dotenv()\n",
    "\n",
    "api_key = os.getenv(\"OPENAI_API_KEY\")\n",
    "assert api_key, \"Set OPENAI_API_KEY env var (e.g., in your shell or .env file).\"\n",
    "\n",
    "client = OpenAI(api_key=api_key)\n",
    "\n",
    "try:\n",
    "    resp = client.responses.create(\n",
    "        model=\"gpt-4o-mini\",\n",
    "        input=\"Say 'hello world' if you can read this.\",\n",
    "        # >= 16 is required; 32 is a safe tiny cap for tests\n",
    "        max_output_tokens=32,\n",
    "    )\n",
    "    print(\"Success ✅:\", resp.output_text)\n",
    "except AuthenticationError:\n",
    "    print(\"Auth failed ❌ – check OPENAI_API_KEY value.\")\n",
    "except RateLimitError:\n",
    "    print(\"Rate limit hit ⏳ – slow down or request higher limits.\")\n",
    "except APIConnectionError as e:\n",
    "    print(\"Network error 🌐:\", e)\n",
    "except OpenAIError as e:\n",
    "    # This shows the full server message for 400s and friends\n",
    "    print(\"OpenAI API error:\", getattr(e, \"message\", e))\n"
   ]
  }
 ],
 "metadata": {
  "kernelspec": {
   "display_name": "Py3.10 (ai4km)",
   "language": "python",
   "name": "ai4km"
  },
  "language_info": {
   "codemirror_mode": {
    "name": "ipython",
    "version": 3
   },
   "file_extension": ".py",
   "mimetype": "text/x-python",
   "name": "python",
   "nbconvert_exporter": "python",
   "pygments_lexer": "ipython3",
   "version": "3.10.18"
  }
 },
 "nbformat": 4,
 "nbformat_minor": 5
}
