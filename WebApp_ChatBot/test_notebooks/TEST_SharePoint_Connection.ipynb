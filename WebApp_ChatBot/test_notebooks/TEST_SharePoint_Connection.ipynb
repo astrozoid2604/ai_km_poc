{
 "cells": [
  {
   "cell_type": "code",
   "execution_count": 1,
   "id": "551bdcd1-a2f5-4a04-bcaa-3c5962667870",
   "metadata": {},
   "outputs": [
    {
     "name": "stderr",
     "output_type": "stream",
     "text": [
      "/Users/jameslim/miniconda3/envs/ai4km/lib/python3.10/site-packages/requests/__init__.py:86: RequestsDependencyWarning: Unable to find acceptable character detection dependency (chardet or charset_normalizer).\n",
      "  warnings.warn(\n"
     ]
    },
    {
     "name": "stdout",
     "output_type": "stream",
     "text": [
      "✅ Site Title: ai4km\n"
     ]
    }
   ],
   "source": [
    "import os\n",
    "from dotenv import load_dotenv\n",
    "from office365.sharepoint.client_context import ClientContext\n",
    "\n",
    "load_dotenv()\n",
    "\n",
    "SITE_URL   = os.getenv(\"SP_SITE_URL\")            # e.g. https://<tenant>.sharepoint.com/sites/ai4km\n",
    "TENANT     = os.getenv(\"SP_TENANT\")              # e.g. yourtenant.onmicrosoft.com (or the tenant GUID)\n",
    "CLIENT_ID  = os.getenv(\"SP_CLIENT_ID\")\n",
    "THUMBPRINT = os.getenv(\"SP_CERT_THUMBPRINT\")     # uppercase hex, no colons\n",
    "\n",
    "os.chdir('../')                                  # When this notebook is launched, the working directory is at root/WebApp_ChatBot/test_notebooks/\n",
    "                                                 # Therefore, need to go up 1 directory level to ./WebApp_Chatbot/ so that SP_CERT_PEM_PATH can be ./sharepoint_certificates/privkey.pem where ./ here is relative path wrt root/WebApp_ChatBot/\n",
    "CERT_PEM   = os.getenv(\"SP_CERT_PEM_PATH\")       \n",
    "\n",
    "ctx = ClientContext(SITE_URL).with_client_certificate(\n",
    "    tenant=TENANT,\n",
    "    client_id=CLIENT_ID,\n",
    "    thumbprint=THUMBPRINT,\n",
    "    cert_path=CERT_PEM\n",
    ")\n",
    "\n",
    "web = ctx.web\n",
    "ctx.load(web)\n",
    "ctx.execute_query()\n",
    "print(\"✅ Site Title:\", web.properties.get(\"Title\"))\n"
   ]
  },
  {
   "cell_type": "code",
   "execution_count": 2,
   "id": "3e60bdd0-134e-4e97-af4d-e5430e4e23e6",
   "metadata": {},
   "outputs": [
    {
     "name": "stdout",
     "output_type": "stream",
     "text": [
      "📋 Lists:\n",
      "  - AI4KM Knowledge Assets\n",
      "  - appdata\n",
      "  - appfiles\n",
      "  - Composed Looks\n",
      "  - Converted Forms\n",
      "  - Documents\n",
      "  - Form Templates\n",
      "  - List Template Gallery\n",
      "  - Master Page Gallery\n",
      "  - Site Assets\n",
      "  - Site Pages\n",
      "  - Solution Gallery\n",
      "  - Style Library\n",
      "  - TaxonomyHiddenList\n",
      "  - Theme Gallery\n",
      "  - User Information List\n",
      "  - Web Part Gallery\n",
      "  - Web Template Extensions\n",
      "✅ Found list: AI4KM Knowledge Assets\n",
      "🟢 Wrote item with RecordId: 78db7d8e-b590-47d1-871a-2863f53248be\n",
      "🔎 Created Item ID: 8\n"
     ]
    }
   ],
   "source": [
    "from office365.sharepoint.client_context import ClientContext\n",
    "import uuid\n",
    "\n",
    "# reuse your existing ctx\n",
    "lists = ctx.web.lists\n",
    "ctx.load(lists)\n",
    "ctx.execute_query()\n",
    "print(\"📋 Lists:\")\n",
    "for l in lists:\n",
    "    print(\"  -\", l.properties.get(\"Title\"))\n",
    "\n",
    "# 1) Ensure your target list exists (exact title)\n",
    "LIST_TITLE = \"AI4KM Knowledge Assets\"\n",
    "target = ctx.web.lists.get_by_title(LIST_TITLE)\n",
    "ctx.load(target)\n",
    "ctx.execute_query()\n",
    "print(\"✅ Found list:\", target.properties.get(\"Title\"))\n",
    "\n",
    "# 2) Add a minimal test item (uses the fields you plan to write)\n",
    "record_id = str(uuid.uuid4())\n",
    "item_props = {\n",
    "    \"Title\": \"AUTH TEST ITEM 456\",\n",
    "    \"ContentSummary\": \"Connectivity OK.\",\n",
    "    \"Benefits\": \"N/A\",\n",
    "    \"ContentOwner\": \"bot@amgen.com\",\n",
    "    \"Function\": \"Digital Technology & Innovation\",\n",
    "    \"Site\": \"ASM\",\n",
    "    \"RecordId\": record_id,\n",
    "}\n",
    "item = target.add_item(item_props)\n",
    "ctx.execute_query()\n",
    "print(\"🟢 Wrote item with RecordId:\", record_id)\n",
    "\n",
    "# 3) Read it back by ID\n",
    "ctx.load(item)\n",
    "ctx.execute_query()\n",
    "print(\"🔎 Created Item ID:\", item.properties.get(\"Id\"))\n"
   ]
  },
  {
   "cell_type": "code",
   "execution_count": 3,
   "id": "23e6c6e1-d2c7-4ae3-8481-0ce8ef88ddc6",
   "metadata": {
    "scrolled": true
   },
   "outputs": [
    {
     "name": "stdout",
     "output_type": "stream",
     "text": [
      "🧩 Internal field names:\n",
      "ContentTypeId : Content Type ID\n",
      "Title : Title\n",
      "_ModerationComments : Approver Comments\n",
      "File_x0020_Type : File Type\n",
      "_ColorHex : Color\n",
      "_ColorTag : Color Tag\n",
      "_Emoji : Emoji\n",
      "ComplianceAssetId : Compliance Asset Id\n",
      "ContentSummary : ContentSummary\n",
      "Benefits : Benefits\n",
      "ContentOwner : ContentOwner\n",
      "Function : Function\n",
      "Site : Site\n",
      "RecordId : RecordId\n",
      "ID : ID\n",
      "ContentType : Content Type\n",
      "Modified : Modified\n",
      "Created : Created\n",
      "Author : Created By\n",
      "Editor : Modified By\n",
      "_HasCopyDestinations : Has Copy Destinations\n",
      "_CopySource : Copy Source\n",
      "owshiddenversion : owshiddenversion\n",
      "WorkflowVersion : Workflow Version\n",
      "_UIVersion : UI Version\n",
      "_UIVersionString : Version\n",
      "Attachments : Attachments\n",
      "_ModerationStatus : Approval Status\n",
      "Edit : Edit\n",
      "LinkTitleNoMenu : Title\n",
      "LinkTitle : Title\n",
      "LinkTitle2 : Title\n",
      "SelectTitle : Select\n",
      "InstanceID : Instance ID\n",
      "Order : Order\n",
      "GUID : GUID\n",
      "WorkflowInstanceID : Workflow Instance ID\n",
      "FileRef : URL Path\n",
      "FileDirRef : Path\n",
      "Last_x0020_Modified : Modified\n",
      "Created_x0020_Date : Created\n",
      "FSObjType : Item Type\n",
      "SortBehavior : Sort Type\n",
      "PermMask : Effective Permissions Mask\n",
      "PrincipalCount : Principal Count\n",
      "FileLeafRef : Name\n",
      "UniqueId : Unique Id\n",
      "ParentUniqueId : Document Parent Identifier\n",
      "SyncClientId : Client Id\n",
      "ProgId : ProgId\n",
      "ScopeId : ScopeId\n",
      "HTML_x0020_File_x0020_Type : HTML File Type\n",
      "_EditMenuTableStart : Edit Menu Table Start\n",
      "_EditMenuTableStart2 : Edit Menu Table Start\n",
      "_EditMenuTableEnd : Edit Menu Table End\n",
      "LinkFilenameNoMenu : Name\n",
      "LinkFilename : Name\n",
      "LinkFilename2 : Name\n",
      "DocIcon : Type\n",
      "ServerUrl : Server Relative URL\n",
      "EncodedAbsUrl : Encoded Absolute URL\n",
      "BaseName : File Name\n",
      "MetaInfo : Property Bag\n",
      "_Level : Level\n",
      "_IsCurrentVersion : Is Current Version\n",
      "ItemChildCount : Item Child Count\n",
      "FolderChildCount : Folder Child Count\n",
      "Restricted : Restricted\n",
      "OriginatorId : Originator Id\n",
      "NoExecute : NoExecute\n",
      "ContentVersion : Content Version\n",
      "_ComplianceFlags : Label setting\n",
      "_ComplianceTag : Retention label\n",
      "_ComplianceTagWrittenTime : Retention label Applied\n",
      "_ComplianceTagUserId : Label applied by\n",
      "_IsRecord : Item is a Record\n",
      "AccessPolicy : Access Policy\n",
      "_VirusStatus : VirusStatus\n",
      "_VirusVendorID : VirusVendorID\n",
      "_VirusInfo : VirusInfo\n",
      "_RansomwareAnomalyMetaInfo : RansomwareAnomalyMetaInfo\n",
      "_DraftOwnerId : Draft Owner Id\n",
      "MainLinkSettings : Main Link settings\n",
      "AppAuthor : App Created By\n",
      "AppEditor : App Modified By\n",
      "SMTotalSize : Total Size\n",
      "SMLastModifiedDate : Last Modified Date\n",
      "SMTotalFileStreamSize : Total File Stream Size\n",
      "SMTotalFileCount : Total File Count\n",
      "_CommentFlags : Comment settings\n",
      "_CommentCount : Comment count\n"
     ]
    }
   ],
   "source": [
    "fields = target.fields\n",
    "ctx.load(fields)\n",
    "ctx.execute_query()\n",
    "print(\"🧩 Internal field names:\")\n",
    "for f in fields:\n",
    "    print(f.properties.get(\"InternalName\"), \":\", f.properties.get(\"Title\"))\n"
   ]
  },
  {
   "cell_type": "code",
   "execution_count": 4,
   "id": "8934b97c-8b3d-47cb-b916-adb9ee11a7c8",
   "metadata": {},
   "outputs": [
    {
     "data": {
      "text/plain": [
       "'./sharepoint_certificates/privkey.pem'"
      ]
     },
     "execution_count": 4,
     "metadata": {},
     "output_type": "execute_result"
    }
   ],
   "source": [
    "CERT_PEM"
   ]
  }
 ],
 "metadata": {
  "kernelspec": {
   "display_name": "Py3.10 (ai4km)",
   "language": "python",
   "name": "ai4km"
  },
  "language_info": {
   "codemirror_mode": {
    "name": "ipython",
    "version": 3
   },
   "file_extension": ".py",
   "mimetype": "text/x-python",
   "name": "python",
   "nbconvert_exporter": "python",
   "pygments_lexer": "ipython3",
   "version": "3.10.18"
  }
 },
 "nbformat": 4,
 "nbformat_minor": 5
}
