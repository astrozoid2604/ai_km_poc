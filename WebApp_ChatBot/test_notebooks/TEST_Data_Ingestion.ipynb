{
 "cells": [
  {
   "cell_type": "code",
   "execution_count": 1,
   "id": "e7e390e0-77d5-4db4-97b5-9b6a7371dba9",
   "metadata": {},
   "outputs": [],
   "source": [
    "import os\n",
    "import io\n",
    "import re\n",
    "import json\n",
    "import time\n",
    "import uuid\n",
    "from typing import List, Dict, Any\n",
    "\n",
    "import streamlit as st\n",
    "import pandas as pd\n",
    "import numpy as np\n",
    "\n",
    "from dotenv import load_dotenv\n",
    "load_dotenv()\n",
    "\n",
    "os.chdir('../')"
   ]
  },
  {
   "cell_type": "code",
   "execution_count": 2,
   "id": "7d727915-51d6-4be2-82b2-1f68e1d0ebdd",
   "metadata": {},
   "outputs": [
    {
     "data": {
      "text/plain": [
       "'/Users/jameslim/Desktop/GITHUB/ai_km_poc/WebApp_ChatBot'"
      ]
     },
     "execution_count": 2,
     "metadata": {},
     "output_type": "execute_result"
    }
   ],
   "source": [
    "os.getcwd()"
   ]
  },
  {
   "cell_type": "code",
   "execution_count": 3,
   "id": "f1480a5c-494d-40cc-89bb-d5c436bfa406",
   "metadata": {},
   "outputs": [
    {
     "name": "stdout",
     "output_type": "stream",
     "text": [
      "tables: ['migrations', 'acquire_write', 'collection_metadata', 'segment_metadata', 'tenants', 'databases', 'collections', 'maintenance_log', 'segments', 'embeddings', 'embedding_metadata', 'max_seq_id', 'embedding_fulltext_search', 'embedding_fulltext_search_data', 'embedding_fulltext_search_idx', 'embedding_fulltext_search_content', 'embedding_fulltext_search_docsize', 'embedding_fulltext_search_config', 'embeddings_queue', 'embeddings_queue_config']\n"
     ]
    }
   ],
   "source": [
    "import sqlite3\n",
    "import sys\n",
    "\n",
    "con=sqlite3.connect('.chroma/chroma.sqlite3') \n",
    "print('tables:', [r[0] for r in con.execute(\"SELECT name FROM sqlite_master WHERE type='table'\")])\n",
    "con.close()"
   ]
  },
  {
   "cell_type": "code",
   "execution_count": 4,
   "id": "464ca713-099c-4f9f-8764-7c76ba99c7db",
   "metadata": {},
   "outputs": [],
   "source": [
    "RecordId = \"7dbe49bf-93f5-4c7a-99e9-b9b6cd6c5d2a\""
   ]
  },
  {
   "cell_type": "code",
   "execution_count": 8,
   "id": "0a65402d-c5ea-4980-9eca-8565e3349029",
   "metadata": {},
   "outputs": [
    {
     "name": "stdout",
     "output_type": "stream",
     "text": [
      "Collections: ['ai4km_assets']\n",
      "Count: 1\n",
      "\n",
      "[0] id=7dbe49bf-93f5-4c7a-99e9-b9b6cd6c5d2a\n",
      "   meta: {'ContentOwner': 'nreniers@amgen.com', 'Title': 'Streamlining RMA Mismatch Resolution', 'Site': 'ABR', 'Function': 'Quality'}\n",
      "   doc[preview]: Title: Reduction of RMA mismatch resolution time   ContentSummary: The project highlights the frequent mismatches betwee\n",
      "\n",
      "\n",
      "\n",
      "\n",
      "Exact lookup:\n",
      "\n",
      " {'ids': ['7dbe49bf-93f5-4c7a-99e9-b9b6cd6c5d2a'], 'embeddings': array([[-0.01374634, -0.00790247, -0.00269297, ...,  0.0059363 ,\n",
      "         0.01203225,  0.00439446]], shape=(1, 3072)), 'documents': ['Title: Reduction of RMA mismatch resolution time \\n\\nContentSummary: The project highlights the frequent mismatches between product complaint return units and the expected details recorded in the Return Material Authorization (RMA). These mismatches include issues such as missing RMA references, incorrect quantities, or lot numbers, which prevent the completion of the Post Goods Receipt (PGR) in the ERP system. As a result, these discrepancies lead to increased time spent resolving mismatches, impacting overall efficiency and increasing waste. With approximately 950 RMA mismatches occurring each year, each requiring around 7 minutes to resolve, this totals to about 110 hours of extra work annually 2. \\n\\nBenefits: The process improvements led to significant efficiency gains and reduced the workload. \\n1. The resolution time of RMA mismatch is reduced with 42% \\n2. The reduction of emails sent is reduced with 50%. These improvements resulted in a annual time savings of 75 hours. This results in an annual time saving of \\n\\nContentOwner: nreniers@amgen.com \\n\\nFunction: Quality \\n\\nSite: ABR\\n'], 'uris': None, 'included': ['metadatas', 'documents', 'embeddings'], 'data': None, 'metadatas': [{'Function': 'Quality', 'Title': 'Streamlining RMA Mismatch Resolution', 'Site': 'ABR', 'ContentOwner': 'nreniers@amgen.com'}]}\n"
     ]
    }
   ],
   "source": [
    "# inspect_chroma.py\n",
    "import chromadb, os\n",
    "\n",
    "VECTOR_DB_PATH = os.environ.get(\"VECTOR_DB_PATH\", \".chroma\")\n",
    "try:\n",
    "    client = chromadb.PersistentClient(path=VECTOR_DB_PATH)\n",
    "except TypeError:\n",
    "    from chromadb.config import Settings\n",
    "    client = chromadb.Client(Settings(persist_directory=VECTOR_DB_PATH))\n",
    "\n",
    "# 1) List collections\n",
    "print(\"Collections:\", [c.name for c in client.list_collections()])\n",
    "\n",
    "# 2) Open yours\n",
    "col = client.get_or_create_collection(name=\"ai4km_assets\", metadata={\"hnsw:space\":\"cosine\"})\n",
    "\n",
    "# 3) Count docs\n",
    "print(\"Count:\", col.count())\n",
    "\n",
    "# 4) Fetch a few items (ids, metadatas)\n",
    "batch = col.get(include=[\"embeddings\",\"metadatas\",\"documents\",\"uris\"], limit=10)\n",
    "for i, _id in enumerate(batch[\"ids\"]):\n",
    "    print(f\"\\n[{i}] id={_id}\")\n",
    "    print(\"   meta:\", batch[\"metadatas\"][i])\n",
    "    # comment next line if your docs are huge\n",
    "    print(\"   doc[preview]:\", (batch[\"documents\"][i] or \"\")[:120].replace(\"\\n\",\" \"))\n",
    "\n",
    "# 5) Fetch a specific RecordId (match it to the one from SharePoint):\n",
    "one = col.get(ids=[RecordId], include=[\"metadatas\",\"documents\",\"embeddings\"])\n",
    "print(\"\\n\\n\\n\\nExact lookup:\\n\\n\", one)\n"
   ]
  },
  {
   "cell_type": "code",
   "execution_count": 6,
   "id": "ce9220f4-2b66-4add-8ba1-c491cf9a9970",
   "metadata": {},
   "outputs": [
    {
     "data": {
      "text/plain": [
       "dict"
      ]
     },
     "execution_count": 6,
     "metadata": {},
     "output_type": "execute_result"
    }
   ],
   "source": [
    "type(one)"
   ]
  },
  {
   "cell_type": "code",
   "execution_count": 9,
   "id": "7ae8ddae-2078-4eaa-9c3b-1ae4dd6408b4",
   "metadata": {},
   "outputs": [
    {
     "data": {
      "text/plain": [
       "['7dbe49bf-93f5-4c7a-99e9-b9b6cd6c5d2a']"
      ]
     },
     "execution_count": 9,
     "metadata": {},
     "output_type": "execute_result"
    }
   ],
   "source": [
    "one[\"ids\"]"
   ]
  },
  {
   "cell_type": "code",
   "execution_count": 10,
   "id": "1760da0d-b99f-46cf-9656-13d40607fe8e",
   "metadata": {},
   "outputs": [
    {
     "data": {
      "text/plain": [
       "['Title: Reduction of RMA mismatch resolution time \\n\\nContentSummary: The project highlights the frequent mismatches between product complaint return units and the expected details recorded in the Return Material Authorization (RMA). These mismatches include issues such as missing RMA references, incorrect quantities, or lot numbers, which prevent the completion of the Post Goods Receipt (PGR) in the ERP system. As a result, these discrepancies lead to increased time spent resolving mismatches, impacting overall efficiency and increasing waste. With approximately 950 RMA mismatches occurring each year, each requiring around 7 minutes to resolve, this totals to about 110 hours of extra work annually 2. \\n\\nBenefits: The process improvements led to significant efficiency gains and reduced the workload. \\n1. The resolution time of RMA mismatch is reduced with 42% \\n2. The reduction of emails sent is reduced with 50%. These improvements resulted in a annual time savings of 75 hours. This results in an annual time saving of \\n\\nContentOwner: nreniers@amgen.com \\n\\nFunction: Quality \\n\\nSite: ABR\\n']"
      ]
     },
     "execution_count": 10,
     "metadata": {},
     "output_type": "execute_result"
    }
   ],
   "source": [
    "one[\"documents\"]"
   ]
  },
  {
   "cell_type": "code",
   "execution_count": 11,
   "id": "801ee63b-6708-49c1-a360-2da529886236",
   "metadata": {},
   "outputs": [
    {
     "data": {
      "text/plain": [
       "array([[-0.01374634, -0.00790247, -0.00269297, ...,  0.0059363 ,\n",
       "         0.01203225,  0.00439446]], shape=(1, 3072))"
      ]
     },
     "execution_count": 11,
     "metadata": {},
     "output_type": "execute_result"
    }
   ],
   "source": [
    "one[\"embeddings\"]"
   ]
  }
 ],
 "metadata": {
  "kernelspec": {
   "display_name": "Py3.10 (ai4km)",
   "language": "python",
   "name": "ai4km"
  },
  "language_info": {
   "codemirror_mode": {
    "name": "ipython",
    "version": 3
   },
   "file_extension": ".py",
   "mimetype": "text/x-python",
   "name": "python",
   "nbconvert_exporter": "python",
   "pygments_lexer": "ipython3",
   "version": "3.10.18"
  }
 },
 "nbformat": 4,
 "nbformat_minor": 5
}
